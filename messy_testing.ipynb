{
 "cells": [
  {
   "cell_type": "code",
   "execution_count": 2,
   "metadata": {},
   "outputs": [],
   "source": [
    "import tensorflow as tf\n",
    "import pandas as pd\n",
    "import numpy as np\n"
   ]
  },
  {
   "cell_type": "markdown",
   "metadata": {},
   "source": [
    "# API Example"
   ]
  },
  {
   "cell_type": "code",
   "execution_count": 3,
   "metadata": {},
   "outputs": [
    {
     "name": "stdout",
     "output_type": "stream",
     "text": [
      "ad_outcomes for  ad_1  =  ['0', '1', '1', '1', '0', '1', '1', '1', '0', '0']\n",
      "ad_outcomes for  ad_2  =  ['0', '1', '0', '0', '1', '1', '1', '1', '0', '0']\n",
      "ad_outcomes for  ad_3  =  ['0', '1', '1', '1', '1', '0', '1', '1', '1', '1']\n",
      "ad_outcomes for  ad_4  =  ['0', '0', '0', '0', '0', '0', '0', '0', '0', '0']\n",
      "ad_outcomes for  ad_5  =  ['0', '0', '0', '1', '0', '0', '0', '0', '0', '0']\n",
      "ad_outcomes for  ad_6  =  ['n', 'n', 'n', 'n', 'n', 'n', 'n', 'n', 'n', 'n']\n"
     ]
    }
   ],
   "source": [
    "import requests\n",
    "import json\n",
    "import time\n",
    "N = 10 # Set how many data points you would like. Querying the API for a single data point takes ~ 0.2 s. \n",
    "ad_list = ['ad_1', 'ad_2', 'ad_3', 'ad_4', 'ad_5'] \n",
    "for ad in ad_list:\n",
    "    ad_outcome = []\n",
    "    for i in range (N):\n",
    "        ad_gen = \"https://755vgi76zg.execute-api.us-east-1.amazonaws.com/prod\"\n",
    "        data = {\n",
    "            \"ad\": ad\n",
    "        }\n",
    "\n",
    "        response = requests.post(ad_gen, json.dumps(data))\n",
    "        resp = json.loads(response.content)\n",
    "        generate_ad = resp[\"body\"]\n",
    "        ad_outcome.append(generate_ad[1])\n",
    "    print ('ad_outcomes for ', ad, ' = ', ad_outcome)"
   ]
  },
  {
   "cell_type": "markdown",
   "metadata": {},
   "source": [
    "# Random Selection Results"
   ]
  },
  {
   "cell_type": "code",
   "execution_count": 45,
   "metadata": {},
   "outputs": [
    {
     "name": "stdout",
     "output_type": "stream",
     "text": [
      "42\n"
     ]
    }
   ],
   "source": [
    "import random\n",
    "\n",
    "N = 100\n",
    "ad_list = ['ad_1', 'ad_2', 'ad_3', 'ad_4', 'ad_5'] \n",
    "total_reward = 0\n",
    "mean_reward = []\n",
    "for i in range(N):\n",
    "    ad = random.choice(ad_list)\n",
    "    ad_gen = \"https://755vgi76zg.execute-api.us-east-1.amazonaws.com/prod\"\n",
    "    data = {\n",
    "        \"ad\": ad\n",
    "    }\n",
    "    response = requests.post(ad_gen, json.dumps(data))\n",
    "    resp = json.loads(response.content)\n",
    "    generate_ad = resp[\"body\"]\n",
    "    total_reward += int(generate_ad[1])\n",
    "    mean_reward.append(total_reward / (i + 1))\n",
    "print(total_reward)"
   ]
  },
  {
   "cell_type": "code",
   "execution_count": 46,
   "metadata": {},
   "outputs": [
    {
     "data": {
      "image/png": "[encoded data removed]",
      "text/plain": [
       "<Figure size 432x288 with 1 Axes>"
      ]
     },
     "metadata": {
      "needs_background": "light"
     },
     "output_type": "display_data"
    }
   ],
   "source": [
    "import matplotlib.pyplot as plt\n",
    "\n",
    "x = [r for r in mean_reward]\n",
    "y = [_ for _ in range(N)]\n",
    "\n",
    "plt.scatter(y, x)\n",
    "plt.show()\n"
   ]
  },
  {
   "cell_type": "markdown",
   "metadata": {},
   "source": [
    "# Pick the ad with the highest mean reward"
   ]
  },
  {
   "cell_type": "code",
   "execution_count": 50,
   "metadata": {},
   "outputs": [
    {
     "name": "stdout",
     "output_type": "stream",
     "text": [
      "587\n"
     ]
    }
   ],
   "source": [
    "class AdData():\n",
    "    mean_reward = 1\n",
    "    num_success = 4\n",
    "    total_times_shown = 4\n",
    "\n",
    "    def __str__(self):\n",
    "        return f\"MeanReward: {self.mean_reward}, NumSuccess: {self.num_success}, TotalTimesShown: {self.total_times_shown}\"\n",
    "\n",
    "    def __gt__(self, other):\n",
    "        return(self.mean_reward > other.mean_reward)\n",
    "\n",
    "N = 1000\n",
    "ad_list = ['ad_1', 'ad_2', 'ad_3', 'ad_4', 'ad_5'] \n",
    "ad_data = {ad: AdData() for ad in ad_list} \n",
    "mean_reward = []\n",
    "highest_mean_reward = 0\n",
    "highest_mean_reward_ad = \"ad_1\"\n",
    "total_reward = 0\n",
    "for i in range(N):\n",
    "    ad = highest_mean_reward_ad\n",
    "    ad_gen = \"https://755vgi76zg.execute-api.us-east-1.amazonaws.com/prod\"\n",
    "    data = {\n",
    "        \"ad\": ad\n",
    "    }\n",
    "    response = requests.post(ad_gen, json.dumps(data))\n",
    "    resp = json.loads(response.content)\n",
    "    ad_reward = int(resp[\"body\"][1])\n",
    "    total_reward += ad_reward\n",
    "\n",
    "    ad_data[ad].num_success += ad_reward\n",
    "    ad_data[ad].total_times_shown += 1\n",
    "    ad_data[ad].mean_reward = ad_data[ad].num_success / ad_data[ad].total_times_shown\n",
    "\n",
    "    # print(f\"Selected ad: {ad} with reward {ad_reward}. New mean reward is {ad_data[ad].mean_reward}\")\n",
    "    # for ad_ in ad_list:\n",
    "    #     print(f\"    {ad_}: {ad_data[ad_]}\") \n",
    "\n",
    "    # if ad_data[ad].mean_reward > highest_mean_reward:\n",
    "    #     highest_mean_reward = ad_data[ad].mean_reward\n",
    "    #     highest_mean_reward_ad = ad\n",
    "    highest_mean_reward_ad = max(ad_data, key=ad_data.get)\n",
    "    highest_mean_reward = ad_data[highest_mean_reward_ad]\n",
    "    mean_reward.append(total_reward / (i + 1))\n",
    "\n",
    "print(total_reward)"
   ]
  },
  {
   "cell_type": "code",
   "execution_count": 51,
   "metadata": {},
   "outputs": [
    {
     "data": {
      "image/png": "[encoded data removed]",
      "text/plain": [
       "<Figure size 432x288 with 1 Axes>"
      ]
     },
     "metadata": {
      "needs_background": "light"
     },
     "output_type": "display_data"
    }
   ],
   "source": [
    "x = [r for r in mean_reward]\n",
    "y = [_ for _ in range(1000)]\n",
    "\n",
    "plt.scatter(y, x)\n",
    "plt.show()"
   ]
  },
  {
   "cell_type": "code",
   "execution_count": 20,
   "metadata": {},
   "outputs": [
    {
     "name": "stdout",
     "output_type": "stream",
     "text": [
      "0.7246376811594203\n",
      "0.6666666666666666\n",
      "0.6\n",
      "0.6666666666666666\n",
      "0.6\n"
     ]
    }
   ],
   "source": [
    "for ad in ad_list:\n",
    "    print(ad_data[ad].mean_reward)"
   ]
  },
  {
   "cell_type": "markdown",
   "metadata": {},
   "source": [
    "# Collecting Data"
   ]
  },
  {
   "cell_type": "code",
   "execution_count": 30,
   "metadata": {},
   "outputs": [
    {
     "ename": "AttributeError",
     "evalue": "module 'matplotlib' has no attribute 'scatter'",
     "output_type": "error",
     "traceback": [
      "\u001b[0;31m---------------------------------------------------------------------------\u001b[0m",
      "\u001b[0;31mAttributeError\u001b[0m                            Traceback (most recent call last)",
      "\u001b[0;32m/tmp/ipykernel_20462/325981054.py\u001b[0m in \u001b[0;36m<module>\u001b[0;34m\u001b[0m\n\u001b[1;32m     18\u001b[0m     \u001b[0mx\u001b[0m\u001b[0;34m.\u001b[0m\u001b[0mappend\u001b[0m\u001b[0;34m(\u001b[0m\u001b[0msum\u001b[0m\u001b[0;34m(\u001b[0m\u001b[0mrewards\u001b[0m\u001b[0;34m[\u001b[0m\u001b[0mi\u001b[0m\u001b[0;34m:\u001b[0m\u001b[0mi\u001b[0m\u001b[0;34m+\u001b[0m\u001b[0;36m10\u001b[0m\u001b[0;34m]\u001b[0m\u001b[0;34m)\u001b[0m\u001b[0;34m)\u001b[0m\u001b[0;34m\u001b[0m\u001b[0;34m\u001b[0m\u001b[0m\n\u001b[1;32m     19\u001b[0m \u001b[0;34m\u001b[0m\u001b[0m\n\u001b[0;32m---> 20\u001b[0;31m \u001b[0mplt\u001b[0m\u001b[0;34m.\u001b[0m\u001b[0mscatter\u001b[0m\u001b[0;34m(\u001b[0m\u001b[0mx\u001b[0m\u001b[0;34m,\u001b[0m \u001b[0my\u001b[0m\u001b[0;34m)\u001b[0m\u001b[0;34m\u001b[0m\u001b[0;34m\u001b[0m\u001b[0m\n\u001b[0m\u001b[1;32m     21\u001b[0m \u001b[0mplt\u001b[0m\u001b[0;34m.\u001b[0m\u001b[0mshow\u001b[0m\u001b[0;34m(\u001b[0m\u001b[0;34m)\u001b[0m\u001b[0;34m\u001b[0m\u001b[0;34m\u001b[0m\u001b[0m\n",
      "\u001b[0;31mAttributeError\u001b[0m: module 'matplotlib' has no attribute 'scatter'"
     ]
    }
   ],
   "source": [
    "rewards = []\n",
    "for i in range(1000):\n",
    "    ad = \"ad_1\"\n",
    "    ad_gen = \"https://755vgi76zg.execute-api.us-east-1.amazonaws.com/prod\"\n",
    "    data = {\n",
    "        \"ad\": ad\n",
    "    }\n",
    "    response = requests.post(ad_gen, json.dumps(data))\n",
    "    resp = json.loads(response.content)\n",
    "    ad_reward = int(resp[\"body\"][1])\n",
    "    rewards.append(ad_reward)"
   ]
  },
  {
   "cell_type": "code",
   "execution_count": 41,
   "metadata": {},
   "outputs": [
    {
     "data": {
      "image/png": "[encoded data removed]",
      "text/plain": [
       "<Figure size 432x288 with 1 Axes>"
      ]
     },
     "metadata": {
      "needs_background": "light"
     },
     "output_type": "display_data"
    }
   ],
   "source": [
    "import matplotlib.pyplot as plt\n",
    "\n",
    "window = 300\n",
    "x = []\n",
    "y = [_ for _ in range(1000-window)]\n",
    "for i in range(1000-window):\n",
    "    x.append(sum(rewards[i:i+window]))\n",
    "\n",
    "plt.scatter(y, x)\n",
    "plt.show()\n"
   ]
  },
  {
   "cell_type": "markdown",
   "metadata": {},
   "source": [
    "# e-Greedy method"
   ]
  },
  {
   "cell_type": "code",
   "execution_count": null,
   "metadata": {},
   "outputs": [],
   "source": []
  },
  {
   "cell_type": "markdown",
   "metadata": {},
   "source": [
    "# Helper Functions and Objects"
   ]
  },
  {
   "cell_type": "code",
   "execution_count": null,
   "metadata": {},
   "outputs": [],
   "source": [
    "class Method():\n",
    "\n",
    "\n",
    "def run_experiment(steps, method):\n",
    "    ad_list = ['ad_1', 'ad_2', 'ad_3', 'ad_4', 'ad_5'] \n",
    "    for i in range(steps):\n",
    "        select an ad to pick \n",
    "        query for that ad and get a reward\n",
    "        update the method with that reward and selection"
   ]
  },
  {
   "cell_type": "markdown",
   "metadata": {},
   "source": [
    "# What's the best ad?"
   ]
  },
  {
   "cell_type": "code",
   "execution_count": null,
   "metadata": {},
   "outputs": [],
   "source": []
  }
 ],
 "metadata": {
  "interpreter": {
   "hash": "11beecd3470cf308673a38c1472758b0ae544e9a4285e87b1c5ab13c1317986b"
  },
  "kernelspec": {
   "display_name": "Python 3.9.7 ('tf')",
   "language": "python",
   "name": "python3"
  },
  "language_info": {
   "codemirror_mode": {
    "name": "ipython",
    "version": 3
   },
   "file_extension": ".py",
   "mimetype": "text/x-python",
   "name": "python",
   "nbconvert_exporter": "python",
   "pygments_lexer": "ipython3",
   "version": "3.9.7"
  },
  "orig_nbformat": 4
 },
 "nbformat": 4,
 "nbformat_minor": 2
}
