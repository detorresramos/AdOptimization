{
 "cells": [
  {
   "cell_type": "code",
   "execution_count": 2,
   "metadata": {},
   "outputs": [],
   "source": [
    "import random \n",
    "import requests\n",
    "import json\n",
    "import matplotlib.pyplot as plt\n",
    "import numpy as np"
   ]
  },
  {
   "cell_type": "markdown",
   "metadata": {},
   "source": [
    "# Run an experiment"
   ]
  },
  {
   "cell_type": "code",
   "execution_count": 16,
   "metadata": {},
   "outputs": [],
   "source": [
    "def run_experiment(steps, method):\n",
    "    \"\"\"\n",
    "        steps\n",
    "            how many queries to make\n",
    "        method\n",
    "            an object that implements selectAd(), update(ad, ad_reward), and __str__()\n",
    "    \"\"\"\n",
    "    mean_reward = []\n",
    "    ad_history = []\n",
    "    total_reward = 0\n",
    "    for i in range(steps):\n",
    "        ad = method.selectAd()\n",
    "        ad_gen = \"https://755vgi76zg.execute-api.us-east-1.amazonaws.com/prod\"\n",
    "        data = {\n",
    "            \"ad\": ad\n",
    "        }\n",
    "        response = requests.post(ad_gen, json.dumps(data))\n",
    "        resp = json.loads(response.content) \n",
    "        ad_reward = int(resp[\"body\"][1])\n",
    "\n",
    "        method.update(ad, ad_reward)\n",
    "        total_reward += ad_reward\n",
    "        mean_reward.append(total_reward / (i + 1))\n",
    "        ad_history.append(ad)\n",
    "    \n",
    "    x = [r for r in mean_reward]\n",
    "    y = [_ for _ in range(steps)]\n",
    "\n",
    "    plt.scatter(y, x)\n",
    "    plt.show()\n",
    "\n",
    "    with open(\"historical_results.txt\", \"a\") as f:\n",
    "        f.write(f\"Method: {method} scored Mean Reward: {mean_reward[-1]} after {steps} steps\\n\")\n",
    "\n",
    "    print(f\"Total reward is: {total_reward}\")\n",
    "\n",
    "    return ad_history"
   ]
  },
  {
   "cell_type": "markdown",
   "metadata": {},
   "source": [
    "# Random Choice"
   ]
  },
  {
   "cell_type": "code",
   "execution_count": 25,
   "metadata": {},
   "outputs": [
    {
     "data": {
      "image/png": "[encoded data removed]",
      "text/plain": [
       "<Figure size 432x288 with 1 Axes>"
      ]
     },
     "metadata": {
      "needs_background": "light"
     },
     "output_type": "display_data"
    },
    {
     "name": "stdout",
     "output_type": "stream",
     "text": [
      "Total reward is: 40\n"
     ]
    }
   ],
   "source": [
    "class Random:\n",
    "    ad_list = ['ad_1', 'ad_2', 'ad_3', 'ad_4', 'ad_5']\n",
    "\n",
    "    def selectAd(self):\n",
    "        return random.choice(self.ad_list)\n",
    "\n",
    "    def update(self, ad, ad_reward):\n",
    "        return\n",
    "\n",
    "    def __str__(self):\n",
    "        return \"Random\"\n",
    "\n",
    "ad_history = run_experiment(100, Random())"
   ]
  },
  {
   "cell_type": "markdown",
   "metadata": {},
   "source": [
    "# Pick the Ad with Max Mean Reward\n",
    "\n",
    "Initialize the AdData assuming that each ad has produced exactly 1/1 success. "
   ]
  },
  {
   "cell_type": "code",
   "execution_count": 6,
   "metadata": {},
   "outputs": [
    {
     "data": {
      "image/png": "[encoded data removed]",
      "text/plain": [
       "<Figure size 432x288 with 1 Axes>"
      ]
     },
     "metadata": {
      "needs_background": "light"
     },
     "output_type": "display_data"
    },
    {
     "name": "stdout",
     "output_type": "stream",
     "text": [
      "Total reward is: 583\n"
     ]
    }
   ],
   "source": [
    "class AdData:\n",
    "    mean_reward = 1\n",
    "    num_success = 1\n",
    "    total_times_shown = 1\n",
    "\n",
    "    def __str__(self):\n",
    "        return f\"MeanReward: {self.mean_reward}, NumSuccess: {self.num_success}, TotalTimesShown: {self.total_times_shown}\"\n",
    "\n",
    "    def __gt__(self, other):\n",
    "        return(self.mean_reward > other.mean_reward)\n",
    "\n",
    "class MaxMeanReward:\n",
    "    def __init__(self):\n",
    "        self.ad_list = ['ad_1', 'ad_2', 'ad_3', 'ad_4', 'ad_5']\n",
    "        self.ad_data = {ad: AdData() for ad in self.ad_list} \n",
    "\n",
    "    def selectAd(self):\n",
    "        return max(self.ad_data, key=self.ad_data.get)\n",
    "\n",
    "    def update(self, ad, ad_reward):\n",
    "        self.ad_data[ad].num_success += ad_reward\n",
    "        self.ad_data[ad].total_times_shown += 1\n",
    "        self.ad_data[ad].mean_reward = self.ad_data[ad].num_success / self.ad_data[ad].total_times_shown\n",
    "\n",
    "    def __str__(self):\n",
    "        return \"MaxMeanReward\"\n",
    "\n",
    "ad_history = run_experiment(1000, MaxMeanReward())"
   ]
  },
  {
   "cell_type": "markdown",
   "metadata": {},
   "source": [
    "# e-Greedy Method\n",
    "\n",
    "Pick an ad at random with probability e. Pick the max mean reward ad with probability 1 - e"
   ]
  },
  {
   "cell_type": "code",
   "execution_count": 29,
   "metadata": {},
   "outputs": [
    {
     "data": {
      "image/png": "[encoded data removed]",
      "text/plain": [
       "<Figure size 432x288 with 1 Axes>"
      ]
     },
     "metadata": {
      "needs_background": "light"
     },
     "output_type": "display_data"
    },
    {
     "name": "stdout",
     "output_type": "stream",
     "text": [
      "Total reward is: 160\n"
     ]
    }
   ],
   "source": [
    "class EGreedy:\n",
    "    def __init__(self, e):\n",
    "        self.ad_list = ['ad_1', 'ad_2', 'ad_3', 'ad_4', 'ad_5']\n",
    "        self.ad_data = {ad: AdData() for ad in self.ad_list} \n",
    "        self.e = e\n",
    "\n",
    "    def selectAd(self):\n",
    "        if np.random.uniform(0, 1) <= self.e:\n",
    "            return random.choice(self.ad_list)\n",
    "        else:\n",
    "            return max(self.ad_data, key=self.ad_data.get)\n",
    "\n",
    "    def update(self, ad, ad_reward):\n",
    "        self.ad_data[ad].num_success += ad_reward\n",
    "        self.ad_data[ad].total_times_shown += 1\n",
    "        self.ad_data[ad].mean_reward = self.ad_data[ad].num_success / self.ad_data[ad].total_times_shown\n",
    "\n",
    "    def __str__(self):\n",
    "        return f\"EGreedy(e={self.e})\"\n",
    "\n",
    "ad_history = run_experiment(300, EGreedy(0.1))"
   ]
  },
  {
   "cell_type": "markdown",
   "metadata": {},
   "source": [
    "# e-Greedy with Decaying Randomness\n",
    "\n",
    "The probability of selecting a random ad is a^x where a is a value between 0-1 passed in at initialization and x is the number of steps taken. If a random ad is not selected then the best ad so far is selected (by mean reward)"
   ]
  },
  {
   "cell_type": "code",
   "execution_count": 35,
   "metadata": {},
   "outputs": [
    {
     "data": {
      "image/png": "[encoded data removed]",
      "text/plain": [
       "<Figure size 432x288 with 1 Axes>"
      ]
     },
     "metadata": {
      "needs_background": "light"
     },
     "output_type": "display_data"
    },
    {
     "name": "stdout",
     "output_type": "stream",
     "text": [
      "Total reward is: 633\n"
     ]
    }
   ],
   "source": [
    "class ExpDecayGreedy:\n",
    "    def __init__(self, a):\n",
    "        self.ad_list = ['ad_1', 'ad_2', 'ad_3', 'ad_4', 'ad_5']\n",
    "        self.ad_data = {ad: AdData() for ad in self.ad_list} \n",
    "        self.a = a\n",
    "        self.steps = 0\n",
    "\n",
    "    def selectAd(self):\n",
    "        if np.random.uniform(0, 1) <= self.a ** self.steps:\n",
    "            return random.choice(self.ad_list)\n",
    "        else:\n",
    "            return max(self.ad_data, key=self.ad_data.get)\n",
    "\n",
    "    def update(self, ad, ad_reward):\n",
    "        self.ad_data[ad].num_success += ad_reward\n",
    "        self.ad_data[ad].total_times_shown += 1\n",
    "        self.ad_data[ad].mean_reward = self.ad_data[ad].num_success / self.ad_data[ad].total_times_shown\n",
    "        self.steps += 1\n",
    "\n",
    "    def __str__(self):\n",
    "        return f\"ExpDecayGreedy(a={self.a})\"\n",
    "\n",
    "ad_history = run_experiment(1000, ExpDecayGreedy(0.95))"
   ]
  },
  {
   "cell_type": "markdown",
   "metadata": {},
   "source": [
    "# What's the best ad?"
   ]
  },
  {
   "cell_type": "code",
   "execution_count": 5,
   "metadata": {},
   "outputs": [
    {
     "data": {
      "image/png": "[encoded data removed]",
      "text/plain": [
       "<Figure size 432x288 with 1 Axes>"
      ]
     },
     "metadata": {
      "needs_background": "light"
     },
     "output_type": "display_data"
    },
    {
     "name": "stdout",
     "output_type": "stream",
     "text": [
      "Total reward is: 594\n"
     ]
    },
    {
     "data": {
      "image/png": "[encoded data removed]",
      "text/plain": [
       "<Figure size 432x288 with 1 Axes>"
      ]
     },
     "metadata": {
      "needs_background": "light"
     },
     "output_type": "display_data"
    },
    {
     "name": "stdout",
     "output_type": "stream",
     "text": [
      "Total reward is: 517\n"
     ]
    },
    {
     "data": {
      "image/png": "[encoded data removed]",
      "text/plain": [
       "<Figure size 432x288 with 1 Axes>"
      ]
     },
     "metadata": {
      "needs_background": "light"
     },
     "output_type": "display_data"
    },
    {
     "name": "stdout",
     "output_type": "stream",
     "text": [
      "Total reward is: 616\n"
     ]
    },
    {
     "data": {
      "image/png": "[encoded data removed]",
      "text/plain": [
       "<Figure size 432x288 with 1 Axes>"
      ]
     },
     "metadata": {
      "needs_background": "light"
     },
     "output_type": "display_data"
    },
    {
     "name": "stdout",
     "output_type": "stream",
     "text": [
      "Total reward is: 213\n"
     ]
    },
    {
     "data": {
      "image/png": "[encoded data removed]",
      "text/plain": [
       "<Figure size 432x288 with 1 Axes>"
      ]
     },
     "metadata": {
      "needs_background": "light"
     },
     "output_type": "display_data"
    },
    {
     "name": "stdout",
     "output_type": "stream",
     "text": [
      "Total reward is: 233\n"
     ]
    }
   ],
   "source": [
    "class Constant:\n",
    "    def __init__(self, ad):\n",
    "        self.ad = ad\n",
    "\n",
    "    def selectAd(self):\n",
    "        return self.ad\n",
    "\n",
    "    def update(self, ad, ad_reward):\n",
    "        return\n",
    "\n",
    "    def __str__(self):\n",
    "        return f\"Constant({self.ad})\"\n",
    "\n",
    "for ad in ['ad_1', 'ad_2', 'ad_3', 'ad_4', 'ad_5']:\n",
    "    ad_history = run_experiment(1000, Constant(ad))"
   ]
  },
  {
   "cell_type": "markdown",
   "metadata": {},
   "source": [
    "# Empirical CTR for Each Ad:\n",
    "* ad_1: 0.61333\n",
    "* ad_2: 0.51333\n",
    "* ad_3: 0.64666\n",
    "* ad_4: 0.23666\n",
    "* ad_5: 0.21333"
   ]
  },
  {
   "cell_type": "markdown",
   "metadata": {},
   "source": [
    "# Thompson Sampling"
   ]
  },
  {
   "cell_type": "code",
   "execution_count": 9,
   "metadata": {},
   "outputs": [
    {
     "data": {
      "image/png": "[encoded data removed]",
      "text/plain": [
       "<Figure size 432x288 with 1 Axes>"
      ]
     },
     "metadata": {
      "needs_background": "light"
     },
     "output_type": "display_data"
    },
    {
     "name": "stdout",
     "output_type": "stream",
     "text": [
      "Total reward is: 622\n"
     ]
    }
   ],
   "source": [
    "class AdData1:\n",
    "    mean_reward = 0\n",
    "    num_success = 0\n",
    "    total_times_shown = 0\n",
    "    alpha = 1\n",
    "    beta = 1\n",
    "\n",
    "    def __str__(self):\n",
    "        return f\"MeanReward: {self.mean_reward}, NumSuccess: {self.num_success}, TotalTimesShown: {self.total_times_shown}\"\n",
    "\n",
    "    def __gt__(self, other):\n",
    "        return(self.mean_reward > other.mean_reward)\n",
    "\n",
    "class ThompsonSampling:\n",
    "    def __init__(self):\n",
    "        self.ad_list = ['ad_1', 'ad_2', 'ad_3', 'ad_4', 'ad_5']\n",
    "        self.ad_data = {ad: AdData1() for ad in self.ad_list} \n",
    "\n",
    "    def selectAd(self):\n",
    "        best_ad = \"\"\n",
    "        best_draw = -float(\"inf\")\n",
    "        for ad in self.ad_list:\n",
    "            draw = np.random.beta(self.ad_data[ad].alpha, self.ad_data[ad].beta, size=1)[0]\n",
    "            if draw > best_draw:\n",
    "                best_draw = draw\n",
    "                best_ad = ad\n",
    "        return best_ad\n",
    "\n",
    "    def update(self, ad, ad_reward):\n",
    "        self.ad_data[ad].num_success += ad_reward\n",
    "        self.ad_data[ad].total_times_shown += 1\n",
    "        self.ad_data[ad].mean_reward = self.ad_data[ad].num_success / self.ad_data[ad].total_times_shown\n",
    "        if ad_reward:\n",
    "            self.ad_data[ad].alpha += 1\n",
    "        else:\n",
    "            self.ad_data[ad].beta += 1\n",
    "\n",
    "    def __str__(self):\n",
    "        return f\"ThompsonSampling\"\n",
    "\n",
    "ad_history = run_experiment(1000, ThompsonSampling())"
   ]
  },
  {
   "cell_type": "markdown",
   "metadata": {},
   "source": [
    "# How quickly do we declare Ad_3 the best?"
   ]
  },
  {
   "cell_type": "code",
   "execution_count": 17,
   "metadata": {},
   "outputs": [],
   "source": [
    "ad_history = run_experiment(1000, ThompsonSampling())\n",
    "ad_history1 = run_experiment(1000, ExpDecayGreedy(0.8))"
   ]
  },
  {
   "cell_type": "code",
   "execution_count": null,
   "metadata": {},
   "outputs": [
    {
     "ename": "TypeError",
     "evalue": "'NoneType' object is not iterable",
     "output_type": "error",
     "traceback": [
      "\u001b[0;31m---------------------------------------------------------------------------\u001b[0m",
      "\u001b[0;31mTypeError\u001b[0m                                 Traceback (most recent call last)",
      "\u001b[0;32m/tmp/ipykernel_26217/638231880.py\u001b[0m in \u001b[0;36m<module>\u001b[0;34m\u001b[0m\n\u001b[0;32m----> 1\u001b[0;31m \u001b[0mx\u001b[0m \u001b[0;34m=\u001b[0m \u001b[0;34m[\u001b[0m\u001b[0mint\u001b[0m\u001b[0;34m(\u001b[0m\u001b[0mx\u001b[0m\u001b[0;34m[\u001b[0m\u001b[0;34m-\u001b[0m\u001b[0;36m1\u001b[0m\u001b[0;34m]\u001b[0m\u001b[0;34m)\u001b[0m \u001b[0;32mfor\u001b[0m \u001b[0mx\u001b[0m \u001b[0;32min\u001b[0m \u001b[0mad_history\u001b[0m\u001b[0;34m]\u001b[0m\u001b[0;34m\u001b[0m\u001b[0;34m\u001b[0m\u001b[0m\n\u001b[0m\u001b[1;32m      2\u001b[0m \u001b[0my\u001b[0m \u001b[0;34m=\u001b[0m \u001b[0;34m[\u001b[0m\u001b[0m_\u001b[0m \u001b[0;32mfor\u001b[0m \u001b[0m_\u001b[0m \u001b[0;32min\u001b[0m \u001b[0mrange\u001b[0m\u001b[0;34m(\u001b[0m\u001b[0;36m1000\u001b[0m\u001b[0;34m)\u001b[0m\u001b[0;34m]\u001b[0m\u001b[0;34m\u001b[0m\u001b[0;34m\u001b[0m\u001b[0m\n\u001b[1;32m      3\u001b[0m \u001b[0;34m\u001b[0m\u001b[0m\n\u001b[1;32m      4\u001b[0m \u001b[0mplt\u001b[0m\u001b[0;34m.\u001b[0m\u001b[0mscatter\u001b[0m\u001b[0;34m(\u001b[0m\u001b[0my\u001b[0m\u001b[0;34m,\u001b[0m \u001b[0mx\u001b[0m\u001b[0;34m)\u001b[0m\u001b[0;34m\u001b[0m\u001b[0;34m\u001b[0m\u001b[0m\n\u001b[1;32m      5\u001b[0m \u001b[0mplt\u001b[0m\u001b[0;34m.\u001b[0m\u001b[0mshow\u001b[0m\u001b[0;34m(\u001b[0m\u001b[0;34m)\u001b[0m\u001b[0;34m\u001b[0m\u001b[0;34m\u001b[0m\u001b[0m\n",
      "\u001b[0;31mTypeError\u001b[0m: 'NoneType' object is not iterable"
     ]
    }
   ],
   "source": [
    "x = [int(x[-1]) for x in ad_history]\n",
    "y = [_ for _ in range(1000)]\n",
    "\n",
    "plt.scatter(y, x)\n",
    "plt.show()"
   ]
  },
  {
   "cell_type": "code",
   "execution_count": null,
   "metadata": {},
   "outputs": [],
   "source": [
    "x = [int(x[-1]) for x in ad_history1]\n",
    "y = [_ for _ in range(1000)]\n",
    "\n",
    "plt.scatter(y, x)\n",
    "plt.show()"
   ]
  },
  {
   "cell_type": "markdown",
   "metadata": {},
   "source": [
    "# Learnings\n",
    "\n",
    "The best solutions used some balance of exploration and exploitation.\n",
    "\n",
    "Each method had its own way of initially figuring out the CTR of the ads and converging to pick out the best ad. The algorithm which converges the fastest wins. Since there is some randomness involved, some solutions may converge to the best ad much faster \n",
    "\n",
    "# Room for Improvements\n",
    "\n",
    "* I should have started tracking my experiments earlier in the competition to have more data\n",
    "* I should have run more robust hyperparameter tuning to account for randomness between different methods (averaging over multiplte experiments)\n",
    "\n",
    "# Next Steps\n",
    "\n",
    "* I'd like to see how this same problem looks when each of the ad click distributions vary over time. In this competition, the distributions were fixed so the name of the game was \"how to pick ad_3 the fastest\". However, in real life people get tired of ads, there are seasonal trends, and people have changing preferences. Accounting for this over time would be very interesting. "
   ]
  },
  {
   "cell_type": "markdown",
   "metadata": {},
   "source": [
    "# References\n",
    "\n",
    "https://towardsdatascience.com/multi-armed-bandits-and-reinforcement-learning-dc9001dcb8da\n",
    "\n",
    "https://www.spotx.tv/resources/blog/developer-blog/introduction-to-multi-armed-bandits-with-applications-in-digital-advertising/\n",
    "\n"
   ]
  }
 ],
 "metadata": {
  "interpreter": {
   "hash": "11beecd3470cf308673a38c1472758b0ae544e9a4285e87b1c5ab13c1317986b"
  },
  "kernelspec": {
   "display_name": "Python 3.9.7 ('tf')",
   "language": "python",
   "name": "python3"
  },
  "language_info": {
   "codemirror_mode": {
    "name": "ipython",
    "version": 3
   },
   "file_extension": ".py",
   "mimetype": "text/x-python",
   "name": "python",
   "nbconvert_exporter": "python",
   "pygments_lexer": "ipython3",
   "version": "3.9.7"
  },
  "orig_nbformat": 4
 },
 "nbformat": 4,
 "nbformat_minor": 2
}
